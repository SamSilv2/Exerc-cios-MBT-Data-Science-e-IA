{
  "nbformat": 4,
  "nbformat_minor": 0,
  "metadata": {
    "colab": {
      "provenance": [],
      "gpuType": "V28",
      "include_colab_link": true
    },
    "language_info": {
      "codemirror_mode": {
        "name": "ipython",
        "version": 2
      },
      "file_extension": ".py",
      "mimetype": "text/x-python",
      "name": "python",
      "nbconvert_exporter": "python",
      "pygments_lexer": "ipython2",
      "version": "2.7.14"
    },
    "kernelspec": {
      "name": "python3",
      "display_name": "Python 3"
    },
    "accelerator": "TPU"
  },
  "cells": [
    {
      "cell_type": "markdown",
      "metadata": {
        "id": "view-in-github",
        "colab_type": "text"
      },
      "source": [
        "<a href=\"https://colab.research.google.com/github/SamSilv2/Exerc-cios-MBT-Data-Science-e-IA/blob/main/ner_lstm_resolucao_samuel.ipynb\" target=\"_parent\"><img src=\"https://colab.research.google.com/assets/colab-badge.svg\" alt=\"Open In Colab\"/></a>"
      ]
    },
    {
      "cell_type": "markdown",
      "metadata": {
        "id": "BpolflBSsgaT"
      },
      "source": [
        "# Guia para marcação de sequência com redes neurais em Python\n",
        "\n",
        "Este script mostra como implementar um **Named Entity Recognition** com uma **LSTM bidirecional** em Python usando Keras. Este exemplo foi retirado do link a seguir, onde você encontrará mais exemplos e arquiteturas mais complexas.\n",
        "\n",
        "https://www.depends-on-the-definition.com/guide-sequence-tagging-neural-networks-python/\n",
        "\n",
        "\n",
        "\n",
        "##A tarefa: reconhecimento de entidade nomeada\n",
        "\n",
        "*Named Entity Recognition* (NER) (também conhecido como identificação de entidade, fragmentação de entidade e extração de entidade) é uma subtarefa de extração de informações que busca localizar e classificar menções de entidades nomeadas em texto não estruturado em categorias predefinidas, como nomes de pessoas , organizações, locais, códigos médicos, expressões de tempo, quantidades, valores monetários, porcentagens, etc.\n",
        "\n",
        "A tarefa aqui é modelada como uma tarefa de rotulagem sequencial onde cada palavra é atribuída a um rótulo que reflete a possível Entidade Nomeada que ela expressa.\n",
        "\n",
        "O formato IOB (abreviação de dentro, fora, início) é um formato de marcação comum para definir rótulos úteis para a tarefa. Foi apresentado por Ramshaw e Marcus em seu artigo \"Text Chunking using Transformation-Based Learning\", 1995.\n",
        "O prefixo `B-` antes de uma tag indica que a tag é o início de um pedaço, e um prefixo `I-` antes de uma tag indica que a tag está dentro de um pedaço. A tag `B-` é usada somente quando uma tag é seguida por uma tag do mesmo tipo sem tokens O entre elas. Uma tag `O` indica que um token não pertence a nenhum pedaço.\n",
        "\n",
        "Um exemplo com formato IOB:\n",
        "\n",
        "```\n",
        "B-GPE da UE\n",
        "rejeita O\n",
        "Alemão B-MISC\n",
        "ligue para O\n",
        "desde O\n",
        "o Ó\n",
        "B-GPE Unido\n",
        "Estados I-GPE\n",
        "```\n",
        "\n",
        "\n",
        "\n",
        "\n",
        "#Um modelo neural recorrente para a tarefa NERC\n",
        "\n",
        "A ideia é usar dois LSTMs, um lendo cada palavra de uma frase do começo ao fim e outro lendo a mesma mas do fim ao começo, produzindo para cada palavra, uma representação vetorial feita tanto do LSTM desdobrado (ou seja, para frente e para trás) leia até essa palavra. A intuição é que o vetor para cada palavra levará em conta as palavras lidas/vistas antes, em ambas as direções.\n",
        "\n",
        "Dadas as duas saídas fornecidas para cada palavra (em cada direção), um único vetor é obtido via concatenação e um classificador linear é aplicado para atribuir cada trabalho a uma tag que reflete a tarefa NER final.\n"
      ]
    },
    {
      "cell_type": "markdown",
      "metadata": {
        "id": "BM05qBuRAt64"
      },
      "source": [
        "Primeiro, importamos os módulos"
      ]
    },
    {
      "cell_type": "code",
      "metadata": {
        "id": "8X0UxQTksgaU",
        "outputId": "50cd402d-5560-4638-e8bb-d18fadee9433",
        "colab": {
          "base_uri": "https://localhost:8080/"
        }
      },
      "source": [
        "import pandas as pd\n",
        "import numpy as np\n",
        "import matplotlib.pyplot as plt\n",
        "\n",
        "from sklearn.model_selection import train_test_split\n",
        "\n",
        "from keras.preprocessing.sequence import pad_sequences\n",
        "from keras.utils import to_categorical\n",
        "\n",
        "from keras.models import Model\n",
        "from keras.layers import LSTM, Embedding, Dense, TimeDistributed, Dropout, Bidirectional, Input\n",
        "\n",
        "from distutils.version import LooseVersion as LV\n",
        "from keras import __version__\n",
        "from keras import backend as K\n",
        "\n",
        "from IPython.display import Image\n",
        "from keras.utils import plot_model\n",
        "\n",
        "\n",
        "\n",
        "print('Using Keras version:', __version__, 'backend:', K.backend())\n",
        "assert(LV(__version__) >= LV(\"2.0.0\"))\n",
        "\n",
        "if K.backend() == \"tensorflow\":\n",
        "    from tensorflow.python.client import device_lib\n",
        "    print(device_lib.list_local_devices())"
      ],
      "execution_count": null,
      "outputs": [
        {
          "output_type": "stream",
          "name": "stdout",
          "text": [
            "Using Keras version: 2.15.0 backend: tensorflow\n",
            "[name: \"/device:CPU:0\"\n",
            "device_type: \"CPU\"\n",
            "memory_limit: 268435456\n",
            "locality {\n",
            "}\n",
            "incarnation: 6020133629366889152\n",
            "xla_global_id: -1\n",
            "]\n"
          ]
        },
        {
          "output_type": "stream",
          "name": "stderr",
          "text": [
            "<ipython-input-1-bada15044ded>:23: DeprecationWarning: distutils Version classes are deprecated. Use packaging.version instead.\n",
            "  assert(LV(__version__) >= LV(\"2.0.0\"))\n"
          ]
        }
      ]
    },
    {
      "cell_type": "markdown",
      "metadata": {
        "id": "Y1lnYCCQAz_4"
      },
      "source": [
        "##Carregando os dados##\n",
        "\n",
        "A dataset é oriunda deste projeto https://github.com/DigantaD/NER.git\n",
        "\n",
        "O arquivo utilizado é https://github.com/DigantaD/NER/blob/master/ner_dataset.csv\n",
        "\n",
        "Observe que apenas um conjunto de dados é carregado e será dividido em um trem e subconjuntos de teste durante a fase de treinamento da rede neural."
      ]
    },
    {
      "cell_type": "code",
      "metadata": {
        "id": "5mU-mPPgsgaY",
        "outputId": "141338d5-c3f6-41e1-ecd6-d6591a645eef",
        "colab": {
          "base_uri": "https://localhost:8080/",
          "height": 380
        }
      },
      "source": [
        "! git clone https://github.com/DigantaD/NER.git\n",
        "data = pd.read_csv(\"./NER/ner_dataset.csv\", encoding=\"latin1\")\n",
        "\n",
        "# Fill the first column of the CSV file which is empty\n",
        "data = data.fillna(method=\"ffill\")\n",
        "\n",
        "#Print the last 100 rows of the input fil\n",
        "data.tail(10)"
      ],
      "execution_count": null,
      "outputs": [
        {
          "output_type": "stream",
          "name": "stdout",
          "text": [
            "fatal: destination path 'NER' already exists and is not an empty directory.\n"
          ]
        },
        {
          "output_type": "execute_result",
          "data": {
            "text/plain": [
              "              Sentence #       Word  POS    Tag\n",
              "1048565  Sentence: 47958     impact   NN      O\n",
              "1048566  Sentence: 47958          .    .      O\n",
              "1048567  Sentence: 47959     Indian   JJ  B-gpe\n",
              "1048568  Sentence: 47959     forces  NNS      O\n",
              "1048569  Sentence: 47959       said  VBD      O\n",
              "1048570  Sentence: 47959       they  PRP      O\n",
              "1048571  Sentence: 47959  responded  VBD      O\n",
              "1048572  Sentence: 47959         to   TO      O\n",
              "1048573  Sentence: 47959        the   DT      O\n",
              "1048574  Sentence: 47959     attack   NN      O"
            ],
            "text/html": [
              "\n",
              "  <div id=\"df-c1131529-d25a-41c2-942b-b9df99e7b6a8\" class=\"colab-df-container\">\n",
              "    <div>\n",
              "<style scoped>\n",
              "    .dataframe tbody tr th:only-of-type {\n",
              "        vertical-align: middle;\n",
              "    }\n",
              "\n",
              "    .dataframe tbody tr th {\n",
              "        vertical-align: top;\n",
              "    }\n",
              "\n",
              "    .dataframe thead th {\n",
              "        text-align: right;\n",
              "    }\n",
              "</style>\n",
              "<table border=\"1\" class=\"dataframe\">\n",
              "  <thead>\n",
              "    <tr style=\"text-align: right;\">\n",
              "      <th></th>\n",
              "      <th>Sentence #</th>\n",
              "      <th>Word</th>\n",
              "      <th>POS</th>\n",
              "      <th>Tag</th>\n",
              "    </tr>\n",
              "  </thead>\n",
              "  <tbody>\n",
              "    <tr>\n",
              "      <th>1048565</th>\n",
              "      <td>Sentence: 47958</td>\n",
              "      <td>impact</td>\n",
              "      <td>NN</td>\n",
              "      <td>O</td>\n",
              "    </tr>\n",
              "    <tr>\n",
              "      <th>1048566</th>\n",
              "      <td>Sentence: 47958</td>\n",
              "      <td>.</td>\n",
              "      <td>.</td>\n",
              "      <td>O</td>\n",
              "    </tr>\n",
              "    <tr>\n",
              "      <th>1048567</th>\n",
              "      <td>Sentence: 47959</td>\n",
              "      <td>Indian</td>\n",
              "      <td>JJ</td>\n",
              "      <td>B-gpe</td>\n",
              "    </tr>\n",
              "    <tr>\n",
              "      <th>1048568</th>\n",
              "      <td>Sentence: 47959</td>\n",
              "      <td>forces</td>\n",
              "      <td>NNS</td>\n",
              "      <td>O</td>\n",
              "    </tr>\n",
              "    <tr>\n",
              "      <th>1048569</th>\n",
              "      <td>Sentence: 47959</td>\n",
              "      <td>said</td>\n",
              "      <td>VBD</td>\n",
              "      <td>O</td>\n",
              "    </tr>\n",
              "    <tr>\n",
              "      <th>1048570</th>\n",
              "      <td>Sentence: 47959</td>\n",
              "      <td>they</td>\n",
              "      <td>PRP</td>\n",
              "      <td>O</td>\n",
              "    </tr>\n",
              "    <tr>\n",
              "      <th>1048571</th>\n",
              "      <td>Sentence: 47959</td>\n",
              "      <td>responded</td>\n",
              "      <td>VBD</td>\n",
              "      <td>O</td>\n",
              "    </tr>\n",
              "    <tr>\n",
              "      <th>1048572</th>\n",
              "      <td>Sentence: 47959</td>\n",
              "      <td>to</td>\n",
              "      <td>TO</td>\n",
              "      <td>O</td>\n",
              "    </tr>\n",
              "    <tr>\n",
              "      <th>1048573</th>\n",
              "      <td>Sentence: 47959</td>\n",
              "      <td>the</td>\n",
              "      <td>DT</td>\n",
              "      <td>O</td>\n",
              "    </tr>\n",
              "    <tr>\n",
              "      <th>1048574</th>\n",
              "      <td>Sentence: 47959</td>\n",
              "      <td>attack</td>\n",
              "      <td>NN</td>\n",
              "      <td>O</td>\n",
              "    </tr>\n",
              "  </tbody>\n",
              "</table>\n",
              "</div>\n",
              "    <div class=\"colab-df-buttons\">\n",
              "\n",
              "  <div class=\"colab-df-container\">\n",
              "    <button class=\"colab-df-convert\" onclick=\"convertToInteractive('df-c1131529-d25a-41c2-942b-b9df99e7b6a8')\"\n",
              "            title=\"Convert this dataframe to an interactive table.\"\n",
              "            style=\"display:none;\">\n",
              "\n",
              "  <svg xmlns=\"http://www.w3.org/2000/svg\" height=\"24px\" viewBox=\"0 -960 960 960\">\n",
              "    <path d=\"M120-120v-720h720v720H120Zm60-500h600v-160H180v160Zm220 220h160v-160H400v160Zm0 220h160v-160H400v160ZM180-400h160v-160H180v160Zm440 0h160v-160H620v160ZM180-180h160v-160H180v160Zm440 0h160v-160H620v160Z\"/>\n",
              "  </svg>\n",
              "    </button>\n",
              "\n",
              "  <style>\n",
              "    .colab-df-container {\n",
              "      display:flex;\n",
              "      gap: 12px;\n",
              "    }\n",
              "\n",
              "    .colab-df-convert {\n",
              "      background-color: #E8F0FE;\n",
              "      border: none;\n",
              "      border-radius: 50%;\n",
              "      cursor: pointer;\n",
              "      display: none;\n",
              "      fill: #1967D2;\n",
              "      height: 32px;\n",
              "      padding: 0 0 0 0;\n",
              "      width: 32px;\n",
              "    }\n",
              "\n",
              "    .colab-df-convert:hover {\n",
              "      background-color: #E2EBFA;\n",
              "      box-shadow: 0px 1px 2px rgba(60, 64, 67, 0.3), 0px 1px 3px 1px rgba(60, 64, 67, 0.15);\n",
              "      fill: #174EA6;\n",
              "    }\n",
              "\n",
              "    .colab-df-buttons div {\n",
              "      margin-bottom: 4px;\n",
              "    }\n",
              "\n",
              "    [theme=dark] .colab-df-convert {\n",
              "      background-color: #3B4455;\n",
              "      fill: #D2E3FC;\n",
              "    }\n",
              "\n",
              "    [theme=dark] .colab-df-convert:hover {\n",
              "      background-color: #434B5C;\n",
              "      box-shadow: 0px 1px 3px 1px rgba(0, 0, 0, 0.15);\n",
              "      filter: drop-shadow(0px 1px 2px rgba(0, 0, 0, 0.3));\n",
              "      fill: #FFFFFF;\n",
              "    }\n",
              "  </style>\n",
              "\n",
              "    <script>\n",
              "      const buttonEl =\n",
              "        document.querySelector('#df-c1131529-d25a-41c2-942b-b9df99e7b6a8 button.colab-df-convert');\n",
              "      buttonEl.style.display =\n",
              "        google.colab.kernel.accessAllowed ? 'block' : 'none';\n",
              "\n",
              "      async function convertToInteractive(key) {\n",
              "        const element = document.querySelector('#df-c1131529-d25a-41c2-942b-b9df99e7b6a8');\n",
              "        const dataTable =\n",
              "          await google.colab.kernel.invokeFunction('convertToInteractive',\n",
              "                                                    [key], {});\n",
              "        if (!dataTable) return;\n",
              "\n",
              "        const docLinkHtml = 'Like what you see? Visit the ' +\n",
              "          '<a target=\"_blank\" href=https://colab.research.google.com/notebooks/data_table.ipynb>data table notebook</a>'\n",
              "          + ' to learn more about interactive tables.';\n",
              "        element.innerHTML = '';\n",
              "        dataTable['output_type'] = 'display_data';\n",
              "        await google.colab.output.renderOutput(dataTable, element);\n",
              "        const docLink = document.createElement('div');\n",
              "        docLink.innerHTML = docLinkHtml;\n",
              "        element.appendChild(docLink);\n",
              "      }\n",
              "    </script>\n",
              "  </div>\n",
              "\n",
              "\n",
              "<div id=\"df-5362cf36-0ef0-4576-a1e6-5f9d88abbd09\">\n",
              "  <button class=\"colab-df-quickchart\" onclick=\"quickchart('df-5362cf36-0ef0-4576-a1e6-5f9d88abbd09')\"\n",
              "            title=\"Suggest charts\"\n",
              "            style=\"display:none;\">\n",
              "\n",
              "<svg xmlns=\"http://www.w3.org/2000/svg\" height=\"24px\"viewBox=\"0 0 24 24\"\n",
              "     width=\"24px\">\n",
              "    <g>\n",
              "        <path d=\"M19 3H5c-1.1 0-2 .9-2 2v14c0 1.1.9 2 2 2h14c1.1 0 2-.9 2-2V5c0-1.1-.9-2-2-2zM9 17H7v-7h2v7zm4 0h-2V7h2v10zm4 0h-2v-4h2v4z\"/>\n",
              "    </g>\n",
              "</svg>\n",
              "  </button>\n",
              "\n",
              "<style>\n",
              "  .colab-df-quickchart {\n",
              "      --bg-color: #E8F0FE;\n",
              "      --fill-color: #1967D2;\n",
              "      --hover-bg-color: #E2EBFA;\n",
              "      --hover-fill-color: #174EA6;\n",
              "      --disabled-fill-color: #AAA;\n",
              "      --disabled-bg-color: #DDD;\n",
              "  }\n",
              "\n",
              "  [theme=dark] .colab-df-quickchart {\n",
              "      --bg-color: #3B4455;\n",
              "      --fill-color: #D2E3FC;\n",
              "      --hover-bg-color: #434B5C;\n",
              "      --hover-fill-color: #FFFFFF;\n",
              "      --disabled-bg-color: #3B4455;\n",
              "      --disabled-fill-color: #666;\n",
              "  }\n",
              "\n",
              "  .colab-df-quickchart {\n",
              "    background-color: var(--bg-color);\n",
              "    border: none;\n",
              "    border-radius: 50%;\n",
              "    cursor: pointer;\n",
              "    display: none;\n",
              "    fill: var(--fill-color);\n",
              "    height: 32px;\n",
              "    padding: 0;\n",
              "    width: 32px;\n",
              "  }\n",
              "\n",
              "  .colab-df-quickchart:hover {\n",
              "    background-color: var(--hover-bg-color);\n",
              "    box-shadow: 0 1px 2px rgba(60, 64, 67, 0.3), 0 1px 3px 1px rgba(60, 64, 67, 0.15);\n",
              "    fill: var(--button-hover-fill-color);\n",
              "  }\n",
              "\n",
              "  .colab-df-quickchart-complete:disabled,\n",
              "  .colab-df-quickchart-complete:disabled:hover {\n",
              "    background-color: var(--disabled-bg-color);\n",
              "    fill: var(--disabled-fill-color);\n",
              "    box-shadow: none;\n",
              "  }\n",
              "\n",
              "  .colab-df-spinner {\n",
              "    border: 2px solid var(--fill-color);\n",
              "    border-color: transparent;\n",
              "    border-bottom-color: var(--fill-color);\n",
              "    animation:\n",
              "      spin 1s steps(1) infinite;\n",
              "  }\n",
              "\n",
              "  @keyframes spin {\n",
              "    0% {\n",
              "      border-color: transparent;\n",
              "      border-bottom-color: var(--fill-color);\n",
              "      border-left-color: var(--fill-color);\n",
              "    }\n",
              "    20% {\n",
              "      border-color: transparent;\n",
              "      border-left-color: var(--fill-color);\n",
              "      border-top-color: var(--fill-color);\n",
              "    }\n",
              "    30% {\n",
              "      border-color: transparent;\n",
              "      border-left-color: var(--fill-color);\n",
              "      border-top-color: var(--fill-color);\n",
              "      border-right-color: var(--fill-color);\n",
              "    }\n",
              "    40% {\n",
              "      border-color: transparent;\n",
              "      border-right-color: var(--fill-color);\n",
              "      border-top-color: var(--fill-color);\n",
              "    }\n",
              "    60% {\n",
              "      border-color: transparent;\n",
              "      border-right-color: var(--fill-color);\n",
              "    }\n",
              "    80% {\n",
              "      border-color: transparent;\n",
              "      border-right-color: var(--fill-color);\n",
              "      border-bottom-color: var(--fill-color);\n",
              "    }\n",
              "    90% {\n",
              "      border-color: transparent;\n",
              "      border-bottom-color: var(--fill-color);\n",
              "    }\n",
              "  }\n",
              "</style>\n",
              "\n",
              "  <script>\n",
              "    async function quickchart(key) {\n",
              "      const quickchartButtonEl =\n",
              "        document.querySelector('#' + key + ' button');\n",
              "      quickchartButtonEl.disabled = true;  // To prevent multiple clicks.\n",
              "      quickchartButtonEl.classList.add('colab-df-spinner');\n",
              "      try {\n",
              "        const charts = await google.colab.kernel.invokeFunction(\n",
              "            'suggestCharts', [key], {});\n",
              "      } catch (error) {\n",
              "        console.error('Error during call to suggestCharts:', error);\n",
              "      }\n",
              "      quickchartButtonEl.classList.remove('colab-df-spinner');\n",
              "      quickchartButtonEl.classList.add('colab-df-quickchart-complete');\n",
              "    }\n",
              "    (() => {\n",
              "      let quickchartButtonEl =\n",
              "        document.querySelector('#df-5362cf36-0ef0-4576-a1e6-5f9d88abbd09 button');\n",
              "      quickchartButtonEl.style.display =\n",
              "        google.colab.kernel.accessAllowed ? 'block' : 'none';\n",
              "    })();\n",
              "  </script>\n",
              "</div>\n",
              "\n",
              "    </div>\n",
              "  </div>\n"
            ],
            "application/vnd.google.colaboratory.intrinsic+json": {
              "type": "dataframe",
              "summary": "{\n  \"name\": \"data\",\n  \"rows\": 10,\n  \"fields\": [\n    {\n      \"column\": \"Sentence #\",\n      \"properties\": {\n        \"dtype\": \"category\",\n        \"num_unique_values\": 2,\n        \"samples\": [\n          \"Sentence: 47959\",\n          \"Sentence: 47958\"\n        ],\n        \"semantic_type\": \"\",\n        \"description\": \"\"\n      }\n    },\n    {\n      \"column\": \"Word\",\n      \"properties\": {\n        \"dtype\": \"string\",\n        \"num_unique_values\": 10,\n        \"samples\": [\n          \"the\",\n          \".\"\n        ],\n        \"semantic_type\": \"\",\n        \"description\": \"\"\n      }\n    },\n    {\n      \"column\": \"POS\",\n      \"properties\": {\n        \"dtype\": \"string\",\n        \"num_unique_values\": 8,\n        \"samples\": [\n          \".\",\n          \"PRP\"\n        ],\n        \"semantic_type\": \"\",\n        \"description\": \"\"\n      }\n    },\n    {\n      \"column\": \"Tag\",\n      \"properties\": {\n        \"dtype\": \"category\",\n        \"num_unique_values\": 2,\n        \"samples\": [\n          \"B-gpe\",\n          \"O\"\n        ],\n        \"semantic_type\": \"\",\n        \"description\": \"\"\n      }\n    }\n  ]\n}"
            }
          },
          "metadata": {},
          "execution_count": 2
        }
      ]
    },
    {
      "cell_type": "code",
      "metadata": {
        "id": "BVJhTyYmsgad",
        "outputId": "26652fab-41f7-4aad-a4ea-93b100270071",
        "colab": {
          "base_uri": "https://localhost:8080/"
        }
      },
      "source": [
        "#Get the complete list of words\n",
        "words = list(set(data[\"Word\"].values))\n",
        "words.append(\"ENDPAD\")\n",
        "#Count the size of the dictionary, after adding a special token ENDPAD that\n",
        "#will be used to pad sentences\n",
        "n_words = len(words);\n",
        "print(\"Number of different words:\\t\" + str(n_words))\n",
        "\n",
        "#Count the tags\n",
        "tags = list(set(data[\"Tag\"].values))\n",
        "n_tags = len(tags);\n",
        "print(\"Number of different tags:\\t\" + str(n_tags))\n",
        "print(\"List of different tags:\\t\" + str(set(tags)))"
      ],
      "execution_count": null,
      "outputs": [
        {
          "output_type": "stream",
          "name": "stdout",
          "text": [
            "Number of different words:\t35178\n",
            "Number of different tags:\t17\n",
            "List of different tags:\t{'B-per', 'O', 'B-gpe', 'I-org', 'B-geo', 'I-geo', 'B-org', 'B-tim', 'I-art', 'I-tim', 'I-gpe', 'B-nat', 'B-art', 'B-eve', 'I-per', 'I-nat', 'I-eve'}\n"
          ]
        }
      ]
    },
    {
      "cell_type": "markdown",
      "metadata": {
        "id": "QSubTb2Usgap"
      },
      "source": [
        "Portanto temos 47.959 sentenças contendo 35.179 palavras diferentes (considerando também a tag específica ENDPAD) com 17 tags diferentes.\n",
        "\n",
        "Usamos a classe SentenceGetter para recuperar frases com seus rótulos."
      ]
    },
    {
      "cell_type": "code",
      "metadata": {
        "id": "Wm7trwAQsgaq"
      },
      "source": [
        "class SentenceGetter(object):\n",
        "\n",
        "    def __init__(self, data):\n",
        "        self.n_sent = 1\n",
        "        self.data = data\n",
        "        self.empty = False\n",
        "        agg_func = lambda s: [(w, p, t) for w, p, t in zip(s[\"Word\"].values.tolist(),\n",
        "                                                           s[\"POS\"].values.tolist(),\n",
        "                                                           s[\"Tag\"].values.tolist())]\n",
        "        self.grouped = self.data.groupby(\"Sentence #\").apply(agg_func)\n",
        "        self.sentences = [s for s in self.grouped]\n",
        "\n",
        "    def get_next(self):\n",
        "        try:\n",
        "            s = self.grouped[\"Sentence: {}\".format(self.n_sent)]\n",
        "            self.n_sent += 1\n",
        "            return s\n",
        "        except:\n",
        "            return None"
      ],
      "execution_count": null,
      "outputs": []
    },
    {
      "cell_type": "markdown",
      "metadata": {
        "id": "9Yb_GKXYCWw3"
      },
      "source": [
        "As frases são carregadas do arquivo de input"
      ]
    },
    {
      "cell_type": "code",
      "metadata": {
        "id": "qgLlN7dnsgas",
        "outputId": "6c789a50-83e8-4524-bfe2-d60b79dff373",
        "colab": {
          "base_uri": "https://localhost:8080/",
          "height": 467
        }
      },
      "source": [
        "#Split sentences\n",
        "getter = SentenceGetter(data)\n",
        "#Get the first sentence\n",
        "sent = getter.get_next()\n",
        "print(\"The first sentence is\" + str(sent))\n",
        "\n",
        "#Load all sentences\n",
        "sentences = getter.sentences\n",
        "\n",
        "#Print the length distribution\n",
        "plt.style.use(\"ggplot\")\n",
        "plt.hist([len(s) for s in sentences], bins=50)\n",
        "plt.show()"
      ],
      "execution_count": null,
      "outputs": [
        {
          "output_type": "stream",
          "name": "stdout",
          "text": [
            "The first sentence is[('Thousands', 'NNS', 'O'), ('of', 'IN', 'O'), ('demonstrators', 'NNS', 'O'), ('have', 'VBP', 'O'), ('marched', 'VBN', 'O'), ('through', 'IN', 'O'), ('London', 'NNP', 'B-geo'), ('to', 'TO', 'O'), ('protest', 'VB', 'O'), ('the', 'DT', 'O'), ('war', 'NN', 'O'), ('in', 'IN', 'O'), ('Iraq', 'NNP', 'B-geo'), ('and', 'CC', 'O'), ('demand', 'VB', 'O'), ('the', 'DT', 'O'), ('withdrawal', 'NN', 'O'), ('of', 'IN', 'O'), ('British', 'JJ', 'B-gpe'), ('troops', 'NNS', 'O'), ('from', 'IN', 'O'), ('that', 'DT', 'O'), ('country', 'NN', 'O'), ('.', '.', 'O')]\n"
          ]
        },
        {
          "output_type": "display_data",
          "data": {
            "text/plain": [
              "<Figure size 640x480 with 1 Axes>"
            ],
            "image/png": "[encoded data removed]"
          },
          "metadata": {}
        }
      ]
    },
    {
      "cell_type": "markdown",
      "metadata": {
        "id": "5oc3cEMcsga_"
      },
      "source": [
        "## Convertendo frases e tags em vetores\n",
        "\n",
        "As sentenças são convertidas em sequências de comprimento igual `max_len` (aqui 50). Um **padding** é aplicado a frases mais curtas.\n",
        "\n",
        "Cada palavra no dicionário de entrada é atribuída a um número que será posteriormente emparelhado com um vetor (inicializado aleatoriamente).\n",
        "\n"
      ]
    },
    {
      "cell_type": "code",
      "metadata": {
        "id": "QNIJaYLTsgbA",
        "outputId": "b6ea5b00-4a9d-4b78-e234-051d2cf206e3",
        "colab": {
          "base_uri": "https://localhost:8080/"
        }
      },
      "source": [
        "#Maximum length of the input sequences\n",
        "max_len = 50\n",
        "\n",
        "#Word and tags in the input word and tag dictionaries are numbered\n",
        "word2idx = {w: i for i, w in enumerate(words)}\n",
        "tag2idx = {t: i for i, t in enumerate(tags)}\n",
        "print(\"The word \\\"Iranian\\\" is assigned to  \" + str(word2idx[\"Iranian\"]))\n",
        "print(\"The tag \\\"B-gpe\\\" is assigned to \" + str(tag2idx[\"B-gpe\"]))\n",
        "\n",
        "#Each sentence is converted into sequences of numbers, given the above dictionaries\n",
        "X = [[word2idx[w[0]] for w in s] for s in sentences]\n",
        "\n",
        "print(\"\\nBefor PADDING\")\n",
        "print(\"Original Sentence 1:\\t\" + str(sentences[1]))\n",
        "print(\"Numerical Representation 1:\\t\" + str(X[1]))\n",
        "print(\"Length of Sentence 1:\" + str(len(X[1])))\n",
        "\n",
        "#APPLY PADDING\n",
        "X = pad_sequences(maxlen=max_len, sequences=X, padding=\"post\", value=n_words - 1)\n",
        "\n",
        "\n",
        "print(\"The special word ENDPAD (used for padding) is assigned to:\\t\" + str(word2idx[\"ENDPAD\"]))\n",
        "\n",
        "print(\"\\nAfter PADDING\")\n",
        "print(\"Numerical Representation 1:\\t\" + str(X[1]))\n",
        "print(\"Length of Sentence 1:\" + str(len(X[1])))\n"
      ],
      "execution_count": null,
      "outputs": [
        {
          "output_type": "stream",
          "name": "stdout",
          "text": [
            "The word \"Iranian\" is assigned to  16881\n",
            "The tag \"B-gpe\" is assigned to 0\n",
            "\n",
            "Befor PADDING\n",
            "Original Sentence 1:\t[('Iranian', 'JJ', 'B-gpe'), ('officials', 'NNS', 'O'), ('say', 'VBP', 'O'), ('they', 'PRP', 'O'), ('expect', 'VBP', 'O'), ('to', 'TO', 'O'), ('get', 'VB', 'O'), ('access', 'NN', 'O'), ('to', 'TO', 'O'), ('sealed', 'JJ', 'O'), ('sensitive', 'JJ', 'O'), ('parts', 'NNS', 'O'), ('of', 'IN', 'O'), ('the', 'DT', 'O'), ('plant', 'NN', 'O'), ('Wednesday', 'NNP', 'B-tim'), (',', ',', 'O'), ('after', 'IN', 'O'), ('an', 'DT', 'O'), ('IAEA', 'NNP', 'B-org'), ('surveillance', 'NN', 'O'), ('system', 'NN', 'O'), ('begins', 'VBZ', 'O'), ('functioning', 'VBG', 'O'), ('.', '.', 'O')]\n",
            "Numerical Representation 1:\t[16881, 28917, 8777, 3294, 30226, 26041, 14746, 2995, 26041, 31375, 31838, 4921, 16804, 10399, 19786, 23282, 6007, 30291, 8121, 15500, 31527, 13778, 18799, 949, 3398]\n",
            "Length of Sentence 1:25\n",
            "The special word ENDPAD (used for padding) is assigned to:\t35177\n",
            "\n",
            "After PADDING\n",
            "Numerical Representation 1:\t[16881 28917  8777  3294 30226 26041 14746  2995 26041 31375 31838  4921\n",
            " 16804 10399 19786 23282  6007 30291  8121 15500 31527 13778 18799   949\n",
            "  3398 35177 35177 35177 35177 35177 35177 35177 35177 35177 35177 35177\n",
            " 35177 35177 35177 35177 35177 35177 35177 35177 35177 35177 35177 35177\n",
            " 35177 35177]\n",
            "Length of Sentence 1:50\n"
          ]
        }
      ]
    },
    {
      "cell_type": "markdown",
      "metadata": {
        "id": "PT4HHjPOF5kS"
      },
      "source": [
        "Os rótulos de saída também são convertidos em sequências, com comprimento máximo igual a max_len (aqui 50). Um preenchimento é aplicado a frases mais curtas, atribuindo aos elementos preenchidos o rótulo `O`."
      ]
    },
    {
      "cell_type": "code",
      "metadata": {
        "id": "JA26xMJXsgbT",
        "outputId": "c078a8bb-5f93-44bd-d04e-f17b56ee3f80",
        "colab": {
          "base_uri": "https://localhost:8080/"
        }
      },
      "source": [
        "# Converting output labels into number and padding\n",
        "y = [[tag2idx[w[2]] for w in s] for s in sentences]\n",
        "y = pad_sequences(maxlen=max_len, sequences=y, padding=\"post\", value=tag2idx[\"O\"])\n",
        "\n",
        "print(\"\\nAfter PADDING\")\n",
        "print(\"Output labels of 1:\\t\" + str(y[1]))\n",
        "\n",
        "#Converting to categorial elements\n",
        "y = [to_categorical(i, num_classes=n_tags) for i in y]\n",
        "\n",
        "print(\"Categorial Output labels for the first 10 tokens:\\t\" + str(y[1][0:10]))\n"
      ],
      "execution_count": null,
      "outputs": [
        {
          "output_type": "stream",
          "name": "stdout",
          "text": [
            "\n",
            "After PADDING\n",
            "Output labels of 1:\t[0 1 1 1 1 1 1 1 1 1 1 1 1 1 1 6 1 1 1 5 1 1 1 1 1 1 1 1 1 1 1 1 1 1 1 1 1\n",
            " 1 1 1 1 1 1 1 1 1 1 1 1 1]\n",
            "Categorial Output labels for the first 10 tokens:\t[[1. 0. 0. 0. 0. 0. 0. 0. 0. 0. 0. 0. 0. 0. 0. 0. 0.]\n",
            " [0. 1. 0. 0. 0. 0. 0. 0. 0. 0. 0. 0. 0. 0. 0. 0. 0.]\n",
            " [0. 1. 0. 0. 0. 0. 0. 0. 0. 0. 0. 0. 0. 0. 0. 0. 0.]\n",
            " [0. 1. 0. 0. 0. 0. 0. 0. 0. 0. 0. 0. 0. 0. 0. 0. 0.]\n",
            " [0. 1. 0. 0. 0. 0. 0. 0. 0. 0. 0. 0. 0. 0. 0. 0. 0.]\n",
            " [0. 1. 0. 0. 0. 0. 0. 0. 0. 0. 0. 0. 0. 0. 0. 0. 0.]\n",
            " [0. 1. 0. 0. 0. 0. 0. 0. 0. 0. 0. 0. 0. 0. 0. 0. 0.]\n",
            " [0. 1. 0. 0. 0. 0. 0. 0. 0. 0. 0. 0. 0. 0. 0. 0. 0.]\n",
            " [0. 1. 0. 0. 0. 0. 0. 0. 0. 0. 0. 0. 0. 0. 0. 0. 0.]\n",
            " [0. 1. 0. 0. 0. 0. 0. 0. 0. 0. 0. 0. 0. 0. 0. 0. 0.]]\n"
          ]
        }
      ]
    },
    {
      "cell_type": "markdown",
      "metadata": {
        "id": "wEV1DVIfGmcI"
      },
      "source": [
        "Dividindo a dataset"
      ]
    },
    {
      "cell_type": "code",
      "metadata": {
        "id": "FXobkqwLGo4w",
        "outputId": "ffc91a5b-9744-479f-c6f5-1602466883c0",
        "colab": {
          "base_uri": "https://localhost:8080/"
        }
      },
      "source": [
        "X_tr, X_te, y_tr, y_te = train_test_split(X, y, test_size=0.1)\n",
        "\n",
        "print(\"Size of the train dataset:\\t\" + str(len(X_tr))+ \" sequences.\")\n",
        "print(\"Size of the test dataset:\\t\" + str(len(X_te))+ \" sequences.\")\n"
      ],
      "execution_count": null,
      "outputs": [
        {
          "output_type": "stream",
          "name": "stdout",
          "text": [
            "Size of the train dataset:\t43163 sequences.\n",
            "Size of the test dataset:\t4796 sequences.\n"
          ]
        }
      ]
    },
    {
      "cell_type": "markdown",
      "metadata": {
        "id": "6eTcoRdqGqQr"
      },
      "source": [
        "## Definindo a RNN"
      ]
    },
    {
      "cell_type": "code",
      "metadata": {
        "id": "VfO7Of7Lsgbk",
        "outputId": "0607c513-d66c-4833-80b7-71368dcff651",
        "colab": {
          "base_uri": "https://localhost:8080/",
          "height": 915
        }
      },
      "source": [
        "input = Input(shape=(max_len,))\n",
        "\n",
        "print(input)\n",
        "\n",
        "# O input (agora sequências de números) são mapeadas em vetores de dimensionalidade 50\n",
        "# https://keras.io/layers/embeddings/\n",
        "model = Embedding(input_dim=n_words, output_dim=50, input_length=max_len)(input)\n",
        "\n",
        "# Aplicando Dropout\n",
        "# https://keras.io/layers/core/#dropout\n",
        "model = Dropout(0.1)(model)\n",
        "\n",
        "# Definindo uma LSTM\n",
        "#model = LSTM(units=100, return_sequences=True, recurrent_dropout=0.1)(model)\n",
        "\n",
        "# Definida uma LSTM bidirecional. Observe que a saída obtida de cada palavra é\n",
        "# fornecido apenas especificando return_sequences=True\n",
        "# https://keras.io/layers/wrappers/\n",
        "model = Bidirectional(LSTM(units=100, return_sequences=True, recurrent_dropout=0.1))(model)\n",
        "\n",
        "# Uma camada densa é definida para reduzir o espaço à mesma dimensionalidade da saída\n",
        "# Um softmax é aplicado\n",
        "out = TimeDistributed(Dense(n_tags, activation=\"softmax\"))(model)\n",
        "\n",
        "# O modelo é compilado\n",
        "model = Model(input, out)\n",
        "model.compile(optimizer=\"adam\", loss=\"categorical_crossentropy\", metrics=[\"accuracy\"])\n",
        "\n",
        "#Imprimindo o modelo\n",
        "model.summary()\n",
        "\n",
        "#Visualizando em uma imagem\n",
        "plot_model(model, to_file='model.png', show_shapes=True)\n",
        "Image(filename='model.png')\n"
      ],
      "execution_count": null,
      "outputs": [
        {
          "output_type": "stream",
          "name": "stdout",
          "text": [
            "KerasTensor(type_spec=TensorSpec(shape=(None, 50), dtype=tf.float32, name='input_1'), name='input_1', description=\"created by layer 'input_1'\")\n",
            "Model: \"model\"\n",
            "_________________________________________________________________\n",
            " Layer (type)                Output Shape              Param #   \n",
            "=================================================================\n",
            " input_1 (InputLayer)        [(None, 50)]              0         \n",
            "                                                                 \n",
            " embedding (Embedding)       (None, 50, 50)            1758900   \n",
            "                                                                 \n",
            " dropout (Dropout)           (None, 50, 50)            0         \n",
            "                                                                 \n",
            " bidirectional (Bidirection  (None, 50, 200)           120800    \n",
            " al)                                                             \n",
            "                                                                 \n",
            " time_distributed (TimeDist  (None, 50, 17)            3417      \n",
            " ributed)                                                        \n",
            "                                                                 \n",
            "=================================================================\n",
            "Total params: 1883117 (7.18 MB)\n",
            "Trainable params: 1883117 (7.18 MB)\n",
            "Non-trainable params: 0 (0.00 Byte)\n",
            "_________________________________________________________________\n"
          ]
        },
        {
          "output_type": "execute_result",
          "data": {
            "image/png": "[encoded data removed]",
            "text/plain": [
              "<IPython.core.display.Image object>"
            ]
          },
          "metadata": {},
          "execution_count": 9
        }
      ]
    },
    {
      "cell_type": "markdown",
      "metadata": {
        "id": "ddk2h22WK3mC"
      },
      "source": [
        "*Vamos* treinar o modelo! *Obs: Estimativa que deve levar ~60-90min na GPU gratuita do Colab.*"
      ]
    },
    {
      "cell_type": "code",
      "metadata": {
        "id": "1Tm3iNXjsgbt"
      },
      "source": [
        "batch_size = 32\n",
        "epochs = 20\n",
        "\n",
        "history = model.fit(X_tr, np.array(y_tr), batch_size = batch_size, epochs = epochs, validation_split=0.1, verbose=1)"
      ],
      "execution_count": null,
      "outputs": []
    },
    {
      "cell_type": "code",
      "source": [
        "model.save('modelo_treinado.h5')"
      ],
      "metadata": {
        "colab": {
          "base_uri": "https://localhost:8080/"
        },
        "id": "gROYDHcXi2Vf",
        "outputId": "28b242d0-8edc-4fda-b828-be2945cb05cf"
      },
      "execution_count": null,
      "outputs": [
        {
          "output_type": "stream",
          "name": "stderr",
          "text": [
            "/usr/local/lib/python3.10/dist-packages/keras/src/engine/training.py:3103: UserWarning: You are saving your model as an HDF5 file via `model.save()`. This file format is considered legacy. We recommend using instead the native Keras format, e.g. `model.save('my_model.keras')`.\n",
            "  saving_api.save_model(\n"
          ]
        }
      ]
    },
    {
      "cell_type": "markdown",
      "metadata": {
        "id": "77VZkhGjMkwb"
      },
      "source": [
        "Resultados na Train/Validation datasets\n",
        "\n",
        "---\n",
        "\n"
      ]
    },
    {
      "cell_type": "code",
      "metadata": {
        "id": "r1O9Jcsssgbu",
        "outputId": "94016c56-b1dd-4492-836e-0ae9505fd16f",
        "colab": {
          "base_uri": "https://localhost:8080/",
          "height": 640
        }
      },
      "source": [
        "# Converta o dicionário history.history em um DataFrame do pandas\n",
        "hist = pd.DataFrame(history.history)\n",
        "\n",
        "# Crie uma figura com subplots\n",
        "fig, axs = plt.subplots(2, 1, figsize=(12, 12))\n",
        "\n",
        "# Plotar training & validation accuracy\n",
        "axs[0].plot(hist[\"accuracy\"])\n",
        "axs[0].plot(hist[\"val_accuracy\"])\n",
        "axs[0].set_title('Model accuracy')\n",
        "axs[0].set_ylabel('Accuracy')\n",
        "axs[0].set_xlabel('Epoch')\n",
        "axs[0].legend(['Train', 'Val'], loc='upper left')\n",
        "\n",
        "# Plotar training & validation loss\n",
        "axs[1].plot(hist[\"loss\"])\n",
        "axs[1].plot(hist[\"val_loss\"])\n",
        "axs[1].set_title('Model loss')\n",
        "axs[1].set_ylabel('Loss')\n",
        "axs[1].set_xlabel('Epoch')\n",
        "axs[1].legend(['Train', 'Val'], loc='upper left')\n",
        "\n",
        "# Mostrar o plot\n",
        "plt.show()\n"
      ],
      "execution_count": null,
      "outputs": [
        {
          "output_type": "display_data",
          "data": {
            "text/plain": [
              "<Figure size 1200x1200 with 2 Axes>"
            ],
            "image/png": "[encoded data removed]"
          },
          "metadata": {}
        }
      ]
    },
    {
      "cell_type": "markdown",
      "metadata": {
        "id": "pNCSvPHPQ4-s"
      },
      "source": [
        "Vamos ver os resultados nos conjuntos de dados de teste (os últimos 10% das sentenças do conjunto de dados original)"
      ]
    },
    {
      "cell_type": "code",
      "source": [
        "from keras.models import load_model\n",
        "model2 = load_model('modelo_treinado.h5')"
      ],
      "metadata": {
        "id": "YRsbMFhgjN2H"
      },
      "execution_count": null,
      "outputs": []
    },
    {
      "cell_type": "code",
      "metadata": {
        "id": "GkrRtGlwPgZZ",
        "outputId": "39de5104-1b05-430c-931b-76ddb2be2dbe",
        "colab": {
          "base_uri": "https://localhost:8080/"
        }
      },
      "source": [
        "%%time\n",
        "scores = model2.evaluate(X_te, np.array(y_te), verbose=2, batch_size=100)\n",
        "print(\"%s: %.2f%%\" % (model2.metrics_names[1], scores[1]*100))"
      ],
      "execution_count": null,
      "outputs": [
        {
          "output_type": "stream",
          "name": "stdout",
          "text": [
            "48/48 - 5s - loss: 14.7422 - accuracy: 0.0171 - 5s/epoch - 96ms/step\n",
            "accuracy: 1.71%\n",
            "CPU times: user 5.06 s, sys: 104 ms, total: 5.17 s\n",
            "Wall time: 5.86 s\n"
          ]
        }
      ]
    },
    {
      "cell_type": "markdown",
      "metadata": {
        "id": "cwyXJUoTLAMk"
      },
      "source": [
        "Podemos ver agora uma frase rotulada"
      ]
    },
    {
      "cell_type": "code",
      "metadata": {
        "id": "UvDIJfOksgbx",
        "outputId": "d58da3ce-73e2-4737-c812-299a54f4ac9f",
        "colab": {
          "base_uri": "https://localhost:8080/"
        }
      },
      "source": [
        "i = 2318\n",
        "p = model2.predict(np.array([X_te[i]]))\n",
        "p = np.argmax(p, axis=-1)\n",
        "print(\"{:15} ({:5}): {}\".format(\"Word\", \"True\", \"Pred\"))\n",
        "for w, pred in zip(X_te[i], p[0]):\n",
        "    print(\"{:15}: {}\".format(words[w], tags[pred]))"
      ],
      "execution_count": null,
      "outputs": [
        {
          "output_type": "stream",
          "name": "stdout",
          "text": [
            "1/1 [==============================] - 1s 518ms/step\n",
            "Word            (True ): Pred\n",
            "At             : B-art\n",
            "least          : B-art\n",
            "three          : B-art\n",
            "Palestinians   : B-art\n",
            "have           : B-art\n",
            "been           : B-art\n",
            "wounded        : I-gpe\n",
            "in             : B-art\n",
            "the            : B-tim\n",
            "Gaza           : B-art\n",
            "Strip          : B-art\n",
            "in             : B-art\n",
            "what           : B-art\n",
            "witnesses      : B-art\n",
            "say            : B-art\n",
            "was            : B-art\n",
            "an             : B-art\n",
            "Israeli        : B-art\n",
            "attempt        : I-gpe\n",
            "to             : B-art\n",
            "kill           : B-art\n",
            "a              : B-art\n",
            "Palestinian    : B-art\n",
            "militant       : B-art\n",
            ".              : I-gpe\n",
            "ENDPAD         : B-art\n",
            "ENDPAD         : B-art\n",
            "ENDPAD         : B-art\n",
            "ENDPAD         : B-art\n",
            "ENDPAD         : B-art\n",
            "ENDPAD         : B-art\n",
            "ENDPAD         : B-art\n",
            "ENDPAD         : B-art\n",
            "ENDPAD         : B-art\n",
            "ENDPAD         : B-art\n",
            "ENDPAD         : B-art\n",
            "ENDPAD         : B-art\n",
            "ENDPAD         : B-art\n",
            "ENDPAD         : B-art\n",
            "ENDPAD         : B-art\n",
            "ENDPAD         : B-art\n",
            "ENDPAD         : B-art\n",
            "ENDPAD         : B-art\n",
            "ENDPAD         : B-art\n",
            "ENDPAD         : B-art\n",
            "ENDPAD         : B-art\n",
            "ENDPAD         : B-art\n",
            "ENDPAD         : B-art\n",
            "ENDPAD         : B-art\n",
            "ENDPAD         : B-art\n"
          ]
        }
      ]
    },
    {
      "cell_type": "markdown",
      "metadata": {
        "id": "GM4TggCA1sWM"
      },
      "source": [
        "## Exercícios\n"
      ]
    },
    {
      "cell_type": "markdown",
      "source": [
        "1) Meça a qualidade do NER usando precision, recall e F1 score sobre entidades (em vez de accuracy sobre tokens)"
      ],
      "metadata": {
        "id": "2afBtgOTEf8E"
      }
    },
    {
      "cell_type": "code",
      "metadata": {
        "id": "8gw7sDrQ1r7c",
        "colab": {
          "base_uri": "https://localhost:8080/"
        },
        "outputId": "96733f0e-589c-419e-9b48-9efb6b193a95"
      },
      "source": [
        "import numpy as np\n",
        "import tensorflow as tf\n",
        "\n",
        "y_pred = model2.predict(np.array(X_te))\n"
      ],
      "execution_count": null,
      "outputs": [
        {
          "output_type": "stream",
          "name": "stdout",
          "text": [
            "150/150 [==============================] - 7s 45ms/step\n"
          ]
        }
      ]
    },
    {
      "cell_type": "code",
      "source": [
        "!pip install seqeval"
      ],
      "metadata": {
        "colab": {
          "base_uri": "https://localhost:8080/"
        },
        "id": "nMQfsC1cWN89",
        "outputId": "a3faa152-a542-46f0-ed81-1f6c4defe29d"
      },
      "execution_count": null,
      "outputs": [
        {
          "output_type": "stream",
          "name": "stdout",
          "text": [
            "Collecting seqeval\n",
            "  Downloading seqeval-1.2.2.tar.gz (43 kB)\n",
            "\u001b[2K     \u001b[90m━━━━━━━━━━━━━━━━━━━━━━━━━━━━━━━━━━━━━━━━\u001b[0m \u001b[32m43.6/43.6 kB\u001b[0m \u001b[31m1.3 MB/s\u001b[0m eta \u001b[36m0:00:00\u001b[0m\n",
            "\u001b[?25h  Preparing metadata (setup.py) ... \u001b[?25l\u001b[?25hdone\n",
            "Requirement already satisfied: numpy>=1.14.0 in /usr/local/lib/python3.10/dist-packages (from seqeval) (1.25.2)\n",
            "Requirement already satisfied: scikit-learn>=0.21.3 in /usr/local/lib/python3.10/dist-packages (from seqeval) (1.2.2)\n",
            "Requirement already satisfied: scipy>=1.3.2 in /usr/local/lib/python3.10/dist-packages (from scikit-learn>=0.21.3->seqeval) (1.11.4)\n",
            "Requirement already satisfied: joblib>=1.1.1 in /usr/local/lib/python3.10/dist-packages (from scikit-learn>=0.21.3->seqeval) (1.4.2)\n",
            "Requirement already satisfied: threadpoolctl>=2.0.0 in /usr/local/lib/python3.10/dist-packages (from scikit-learn>=0.21.3->seqeval) (3.5.0)\n",
            "Building wheels for collected packages: seqeval\n",
            "  Building wheel for seqeval (setup.py) ... \u001b[?25l\u001b[?25hdone\n",
            "  Created wheel for seqeval: filename=seqeval-1.2.2-py3-none-any.whl size=16161 sha256=39eb249c7ecb3ad2885ca2900dab8b12e2033996f4c5ede7fcd4afc611f55a50\n",
            "  Stored in directory: /root/.cache/pip/wheels/1a/67/4a/ad4082dd7dfc30f2abfe4d80a2ed5926a506eb8a972b4767fa\n",
            "Successfully built seqeval\n",
            "Installing collected packages: seqeval\n",
            "Successfully installed seqeval-1.2.2\n"
          ]
        }
      ]
    },
    {
      "cell_type": "code",
      "source": [
        "import numpy as np\n",
        "from seqeval.metrics import classification_report, precision_score, recall_score, f1_score"
      ],
      "metadata": {
        "id": "6J3gzIusVks0"
      },
      "execution_count": null,
      "outputs": []
    },
    {
      "cell_type": "code",
      "source": [
        "# Converter as predições e os rótulos reais de volta para tags\n",
        "def pred2label(pred, idx2tag):\n",
        "    out = []\n",
        "    for pred_i in pred:\n",
        "        out_i = []\n",
        "        for p in pred_i:\n",
        "            p_i = np.argmax(p)\n",
        "            out_i.append(idx2tag[p_i].replace(\"PAD\", \"O\"))\n",
        "        out.append(out_i)\n",
        "    return out\n",
        "\n",
        "idx2tag = {i: t for t, i in tag2idx.items()}\n",
        "y_te_true = pred2label(y_te, idx2tag)\n",
        "y_te_pred = pred2label(y_pred, idx2tag)\n"
      ],
      "metadata": {
        "id": "tKOfguyPWTuh"
      },
      "execution_count": null,
      "outputs": []
    },
    {
      "cell_type": "code",
      "source": [
        "# Calculando precision, recall e F1 score\n",
        "precision = precision_score(y_te_true, y_te_pred)\n",
        "recall = recall_score(y_te_true, y_te_pred)\n",
        "f1 = f1_score(y_te_true, y_te_pred)\n",
        "\n",
        "# Exibir os resultados\n",
        "print(f\"Precision: {precision:.4f}\")\n",
        "print(f\"Recall: {recall:.4f}\")\n",
        "print(f\"F1 Score: {f1:.4f}\")\n",
        "\n",
        "# Relatório de classificação detalhado\n",
        "report = classification_report(y_te_true, y_te_pred)\n",
        "print(report)"
      ],
      "metadata": {
        "colab": {
          "base_uri": "https://localhost:8080/"
        },
        "id": "o3sxu9p4WZp-",
        "outputId": "96114752-546d-4daa-97fa-78321fe5e6ce"
      },
      "execution_count": null,
      "outputs": [
        {
          "output_type": "stream",
          "name": "stdout",
          "text": [
            "Precision: 0.0008\n",
            "Recall: 0.0155\n",
            "F1 Score: 0.0014\n",
            "              precision    recall  f1-score   support\n",
            "\n",
            "         art       0.00      0.26      0.00        38\n",
            "         eve       0.00      0.10      0.00        30\n",
            "         geo       0.02      0.00      0.00      3767\n",
            "         gpe       0.01      0.03      0.02      1608\n",
            "         nat       0.00      0.00      0.00        19\n",
            "         org       0.03      0.00      0.01      2097\n",
            "         per       0.00      0.01      0.01      1750\n",
            "         tim       0.02      0.04      0.03      2071\n",
            "\n",
            "   micro avg       0.00      0.02      0.00     11380\n",
            "   macro avg       0.01      0.06      0.01     11380\n",
            "weighted avg       0.02      0.02      0.01     11380\n",
            "\n"
          ]
        }
      ]
    },
    {
      "cell_type": "markdown",
      "source": [
        "2) Treine uma arquitetura de RNN 'Vanilla' e compare os resultados com a LSTM Bi-Direcional acima."
      ],
      "metadata": {
        "id": "xX-Cw6ZvETiT"
      }
    },
    {
      "cell_type": "code",
      "source": [
        "from keras.callbacks import ModelCheckpoint\n",
        "from keras.models import Sequential\n",
        "from keras.layers import Embedding, SimpleRNN, TimeDistributed, Dense, Dropout, Bidirectional, LSTM\n",
        "from keras.optimizers import Adam"
      ],
      "metadata": {
        "id": "uwU64tp2Etly"
      },
      "execution_count": null,
      "outputs": []
    },
    {
      "cell_type": "code",
      "source": [
        "checkpoint_callback = ModelCheckpoint(\n",
        "    filepath='vanilla_rnn_model_epoch_{epoch:02d}.h5',  # Nome do arquivo para salvar o modelo\n",
        "    save_freq='epoch',                                  # Salvar após cada época\n",
        "    save_best_only=True,                                # Salvar apenas o melhor modelo (baseado na métrica de validação)\n",
        "    monitor='val_loss',                                 # Métrica a ser monitorada\n",
        "    mode='min',                                         # Modo de monitoramento (mínimo é melhor para perda)\n",
        "    verbose=1                                           # Verbosidade\n",
        ")"
      ],
      "metadata": {
        "id": "dexy5oQsXQtP"
      },
      "execution_count": null,
      "outputs": []
    },
    {
      "cell_type": "code",
      "source": [
        "# Definir o modelo RNN 'Vanilla'\n",
        "model_rnn = Sequential()\n",
        "model_rnn.add(Embedding(input_dim=len(word2idx), output_dim=50, input_length=max_len))\n",
        "model_rnn.add(SimpleRNN(units=100, return_sequences=True, dropout=0.1, recurrent_dropout=0.1))\n",
        "model_rnn.add(TimeDistributed(Dense(len(tag2idx), activation=\"softmax\")))\n",
        "\n",
        "# Compilar o modelo\n",
        "model_rnn.compile(optimizer=Adam(learning_rate=0.001), loss=\"categorical_crossentropy\", metrics=[\"accuracy\"])\n",
        "\n",
        "# Treinar o modelo com o callback de checkpoint\n",
        "history_rnn = model_rnn.fit(\n",
        "    X_tr,\n",
        "    np.array(y_tr),\n",
        "    batch_size=32,\n",
        "    epochs=5,\n",
        "    validation_split=0.1,\n",
        "    verbose=1,\n",
        "    callbacks=[checkpoint_callback]\n",
        ")"
      ],
      "metadata": {
        "colab": {
          "base_uri": "https://localhost:8080/"
        },
        "id": "o3vMPzo4XTgb",
        "outputId": "86f78131-1ace-4a66-b7ae-4ec3b9a2c6fc"
      },
      "execution_count": null,
      "outputs": [
        {
          "output_type": "stream",
          "name": "stdout",
          "text": [
            "Epoch 1/5\n",
            "1214/1214 [==============================] - ETA: 0s - loss: 0.1741 - accuracy: 0.9619\n",
            "Epoch 1: val_loss improved from inf to 0.06425, saving model to vanilla_rnn_model_epoch_01.h5\n",
            "1214/1214 [==============================] - 67s 54ms/step - loss: 0.1741 - accuracy: 0.9619 - val_loss: 0.0642 - val_accuracy: 0.9814\n",
            "Epoch 2/5\n",
            "   1/1214 [..............................] - ETA: 1:00 - loss: 0.0498 - accuracy: 0.9869"
          ]
        },
        {
          "output_type": "stream",
          "name": "stderr",
          "text": [
            "/usr/local/lib/python3.10/dist-packages/keras/src/engine/training.py:3103: UserWarning: You are saving your model as an HDF5 file via `model.save()`. This file format is considered legacy. We recommend using instead the native Keras format, e.g. `model.save('my_model.keras')`.\n",
            "  saving_api.save_model(\n"
          ]
        },
        {
          "output_type": "stream",
          "name": "stdout",
          "text": [
            "1214/1214 [==============================] - ETA: 0s - loss: 0.0532 - accuracy: 0.9840\n",
            "Epoch 2: val_loss improved from 0.06425 to 0.05472, saving model to vanilla_rnn_model_epoch_02.h5\n",
            "1214/1214 [==============================] - 62s 51ms/step - loss: 0.0532 - accuracy: 0.9840 - val_loss: 0.0547 - val_accuracy: 0.9833\n",
            "Epoch 3/5\n",
            "1213/1214 [============================>.] - ETA: 0s - loss: 0.0428 - accuracy: 0.9863\n",
            "Epoch 3: val_loss improved from 0.05472 to 0.05374, saving model to vanilla_rnn_model_epoch_03.h5\n",
            "1214/1214 [==============================] - 63s 52ms/step - loss: 0.0428 - accuracy: 0.9863 - val_loss: 0.0537 - val_accuracy: 0.9834\n",
            "Epoch 4/5\n",
            "1214/1214 [==============================] - ETA: 0s - loss: 0.0379 - accuracy: 0.9875\n",
            "Epoch 4: val_loss did not improve from 0.05374\n",
            "1214/1214 [==============================] - 62s 51ms/step - loss: 0.0379 - accuracy: 0.9875 - val_loss: 0.0544 - val_accuracy: 0.9834\n",
            "Epoch 5/5\n",
            "1214/1214 [==============================] - ETA: 0s - loss: 0.0346 - accuracy: 0.9884\n",
            "Epoch 5: val_loss did not improve from 0.05374\n",
            "1214/1214 [==============================] - 63s 52ms/step - loss: 0.0346 - accuracy: 0.9884 - val_loss: 0.0542 - val_accuracy: 0.9836\n"
          ]
        }
      ]
    },
    {
      "cell_type": "code",
      "source": [
        "# Função para avaliar o modelo\n",
        "def evaluate_model(y_te_true, y_te_pred):\n",
        "    precision = precision_score(y_te_true, y_te_pred)\n",
        "    recall = recall_score(y_te_true, y_te_pred)\n",
        "    f1 = f1_score(y_te_true, y_te_pred)\n",
        "    print(f\"Precision: {precision:.4f}\")\n",
        "    print(f\"Recall: {recall:.4f}\")\n",
        "    print(f\"F1 Score: {f1:.4f}\")\n",
        "    report = classification_report(y_te_true, y_te_pred)\n",
        "    print(report)"
      ],
      "metadata": {
        "id": "5M7ErRKXZlVx"
      },
      "execution_count": null,
      "outputs": []
    },
    {
      "cell_type": "code",
      "source": [
        "# Fazer predições no conjunto de teste\n",
        "y_pred_rnn = model_rnn.predict(np.array(X_te))\n",
        "\n",
        "# Converter as predições e os rótulos reais de volta para tags\n",
        "y_te_true_rnn = pred2label(y_te, idx2tag)\n",
        "y_te_pred_rnn = pred2label(y_pred_rnn, idx2tag)\n",
        "\n",
        "# Avaliar o modelo RNN 'Vanilla'\n",
        "print(\"Evaluation for Vanilla RNN:\")\n",
        "evaluate_model(y_te_true_rnn, y_te_pred_rnn)"
      ],
      "metadata": {
        "colab": {
          "base_uri": "https://localhost:8080/"
        },
        "id": "eN3O7DHuZQpS",
        "outputId": "71e5472b-d00a-4eb7-e1c7-8ad7cb93034c"
      },
      "execution_count": null,
      "outputs": [
        {
          "output_type": "stream",
          "name": "stdout",
          "text": [
            "150/150 [==============================] - 1s 7ms/step\n",
            "Evaluation for Vanilla RNN:\n",
            "Precision: 0.7482\n",
            "Recall: 0.7815\n",
            "F1 Score: 0.7645\n",
            "              precision    recall  f1-score   support\n",
            "\n",
            "         art       0.24      0.18      0.21        38\n",
            "         eve       0.53      0.30      0.38        30\n",
            "         geo       0.79      0.85      0.82      3767\n",
            "         gpe       0.95      0.93      0.94      1608\n",
            "         nat       0.50      0.42      0.46        19\n",
            "         org       0.52      0.60      0.56      2097\n",
            "         per       0.69      0.71      0.70      1750\n",
            "         tim       0.83      0.80      0.82      2071\n",
            "\n",
            "   micro avg       0.75      0.78      0.76     11380\n",
            "   macro avg       0.63      0.60      0.61     11380\n",
            "weighted avg       0.75      0.78      0.77     11380\n",
            "\n"
          ]
        }
      ]
    },
    {
      "cell_type": "code",
      "source": [
        "# Avaliar o modelo LSTM Bi-Direcional\n",
        "print(\"Evaluation for Bi-Directional LSTM:\")\n",
        "evaluate_model(y_te_true, y_te_pred)"
      ],
      "metadata": {
        "colab": {
          "base_uri": "https://localhost:8080/"
        },
        "id": "-WOkKKWmZqfy",
        "outputId": "6169aaec-096e-4f88-9a99-3a238a5cda90"
      },
      "execution_count": null,
      "outputs": [
        {
          "output_type": "stream",
          "name": "stdout",
          "text": [
            "Evaluation for Bi-Directional LSTM:\n",
            "Precision: 0.0008\n",
            "Recall: 0.0155\n",
            "F1 Score: 0.0014\n",
            "              precision    recall  f1-score   support\n",
            "\n",
            "         art       0.00      0.26      0.00        38\n",
            "         eve       0.00      0.10      0.00        30\n",
            "         geo       0.02      0.00      0.00      3767\n",
            "         gpe       0.01      0.03      0.02      1608\n",
            "         nat       0.00      0.00      0.00        19\n",
            "         org       0.03      0.00      0.01      2097\n",
            "         per       0.00      0.01      0.01      1750\n",
            "         tim       0.02      0.04      0.03      2071\n",
            "\n",
            "   micro avg       0.00      0.02      0.00     11380\n",
            "   macro avg       0.01      0.06      0.01     11380\n",
            "weighted avg       0.02      0.02      0.01     11380\n",
            "\n"
          ]
        }
      ]
    }
  ]
}